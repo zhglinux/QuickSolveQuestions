{
 "cells": [
  {
   "cell_type": "markdown",
   "metadata": {},
   "source": [
    "##### 2018/01/12"
   ]
  },
  {
   "cell_type": "markdown",
   "metadata": {},
   "source": [
    "【1.】     \n",
    "    [链接](http://blog.csdn.net/zhanlanmg/article/details/49862779)  \n",
    "    git 中文文件名 乱码 mac  \n",
    "　　git 默认中文文件名是 \\xxx\\xxx 等八进制形式   \n",
    "　　是因为 对0x80以上的字符进行quote   \n",
    "　　只需要   \n",
    "　　git config --global core.quotepath false   \n",
    "　　core.quotepath设为false的话，就不会对0x80以上的字符进行quote。中文显示正常  "
   ]
  },
  {
   "cell_type": "markdown",
   "metadata": {},
   "source": [
    "【2.】        \n",
    "iterm2 补全快捷键   \n",
    "⌘ + ;：自动补全历史记录  \n",
    "⇧⌘ + h：自动补全剪贴板历史  "
   ]
  },
  {
   "cell_type": "markdown",
   "metadata": {},
   "source": [
    "【3.】  \n",
    "iterm2 想要自动补全的话， 要使用 ash， 而不是bash   "
   ]
  },
  {
   "cell_type": "markdown",
   "metadata": {},
   "source": [
    "【4】    \n",
    "git add -A和 git add .   git add -u在功能上看似很相近，但还是存在一点差别  \n",
    "git add . ：他会监控工作区的状态树，使用它会把工作时的所有变化提交到暂存区，包括文件内容修改(modified)以及新文件(new)，但不包括被删除的文件。  \n",
    "git add -u ：他仅监控已经被add的文件（即tracked file），他会将被修改的文件提交到暂存区。add -u 不会提交新文件（untracked file）。（git add --update的缩写）  \n",
    "git add -A ：是上面两个功能的合集（git add --all的缩写）  \n",
    "总结：  \n",
    "·  git add -A  提交所有变化  \n",
    "·  git add -u  提交被修改(modified)和被删除(deleted)文件，不包括新文件(new)  \n",
    "·  git add .  提交新文件(new)和被修改(modified)文件，不包括被删除(deleted)文件  \n",
    " [参考图片](http://i.stack.imgur.com/KwOLu.jpg)"
   ]
  },
  {
   "cell_type": "markdown",
   "metadata": {},
   "source": [
    "【5】  \n",
    " 把之前所有的开发截图，和现在的截图，用html管理起来\n",
    "\n"
   ]
  },
  {
   "cell_type": "markdown",
   "metadata": {},
   "source": [
    "【6】   \n",
    "setneedslayout . layoutIfNeeded 先后顺序  \n",
    "[mac 电脑中的位置](/Users/cocozhou/Downloads/iOSwebdl/aaa_layout_display_draw)  \n",
    "\n",
    "刷新子对象布局:  \n",
    "\n",
    "-layoutSubviews方法：这个方法，默认没有做任何事情，需要子类进行重写\n",
    "\n",
    "-setNeedsLayout方法： 标记为需要重新布局，异步调用layoutIfNeeded刷新布局，不立即刷新，但layoutSubviews一定会被调用\n",
    "\n",
    "-layoutIfNeeded方法：如果，有需要刷新的标记，立即调用layoutSubviews进行布局（如果没有标记，不会调用layoutSubviews）\n",
    "\n",
    "如果要立即刷新，要先调用[view setNeedsLayout]，把标记设为需要布局，然后马上调用[view layoutIfNeeded]，实现布局\n",
    "\n",
    "在视图第一次显示之前，标记总是“需要刷新”的，可以直接调用[view layoutIfNeeded]\n"
   ]
  }
 ],
 "metadata": {
  "kernelspec": {
   "display_name": "Python 2",
   "language": "python",
   "name": "python2"
  },
  "language_info": {
   "codemirror_mode": {
    "name": "ipython",
    "version": 2
   },
   "file_extension": ".py",
   "mimetype": "text/x-python",
   "name": "python",
   "nbconvert_exporter": "python",
   "pygments_lexer": "ipython2",
   "version": "2.7.14"
  }
 },
 "nbformat": 4,
 "nbformat_minor": 2
}
